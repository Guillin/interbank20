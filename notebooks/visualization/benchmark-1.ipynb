{
 "cells": [
  {
   "cell_type": "markdown",
   "metadata": {
    "papermill": {
     "duration": 0.014,
     "end_time": "2020-12-10T23:30:07.617840",
     "exception": false,
     "start_time": "2020-12-10T23:30:07.603840",
     "status": "completed"
    },
    "tags": []
   },
   "source": [
    "# Script para generar la solución del Primer Benchmark de la Competencia\n",
    "\n",
    "## Si no presentaste aún tu primera solución, tenes la oportunidad de hacerlo en pocos Clicks!\n",
    "\n",
    "**Hola! **  \n",
    "  \n",
    "Este Script es un Ejemplo de Procesamiento de los Datos, Modelado y Generación de una Solución.\n",
    "\n",
    "Agregamos una pequeña explicación de lo que se hace en cada paso para ayudar a los que están comenzando ahora\n"
   ]
  },
  {
   "cell_type": "markdown",
   "metadata": {
    "papermill": {
     "duration": 0.010463,
     "end_time": "2020-12-10T23:30:07.639645",
     "exception": false,
     "start_time": "2020-12-10T23:30:07.629182",
     "status": "completed"
    },
    "tags": []
   },
   "source": [
    "### Importamos las librerías que vamos a utilizar"
   ]
  },
  {
   "cell_type": "code",
   "execution_count": 1,
   "metadata": {
    "_cell_guid": "79c7e3d0-c299-4dcb-8224-4455121ee9b0",
    "_uuid": "d629ff2d2480ee46fbb7e2d37f6b5fab8052498a",
    "execution": {
     "iopub.execute_input": "2020-12-10T23:30:07.667013Z",
     "iopub.status.busy": "2020-12-10T23:30:07.666327Z",
     "iopub.status.idle": "2020-12-10T23:30:08.972607Z",
     "shell.execute_reply": "2020-12-10T23:30:08.971883Z"
    },
    "papermill": {
     "duration": 1.322251,
     "end_time": "2020-12-10T23:30:08.972744",
     "exception": false,
     "start_time": "2020-12-10T23:30:07.650493",
     "status": "completed"
    },
    "tags": []
   },
   "outputs": [
    {
     "data": {
      "text/html": [
       "<style type='text/css'>\n",
       ".datatable table.frame { margin-bottom: 0; }\n",
       ".datatable table.frame thead { border-bottom: none; }\n",
       ".datatable table.frame tr.coltypes td {  color: #FFFFFF;  line-height: 6px;  padding: 0 0.5em;}\n",
       ".datatable .bool    { background: #DDDD99; }\n",
       ".datatable .object  { background: #565656; }\n",
       ".datatable .int     { background: #5D9E5D; }\n",
       ".datatable .float   { background: #4040CC; }\n",
       ".datatable .str     { background: #CC4040; }\n",
       ".datatable .row_index {  background: var(--jp-border-color3);  border-right: 1px solid var(--jp-border-color0);  color: var(--jp-ui-font-color3);  font-size: 9px;}\n",
       ".datatable .frame tr.coltypes .row_index {  background: var(--jp-border-color0);}\n",
       ".datatable th:nth-child(2) { padding-left: 12px; }\n",
       ".datatable .hellipsis {  color: var(--jp-cell-editor-border-color);}\n",
       ".datatable .vellipsis {  background: var(--jp-layout-color0);  color: var(--jp-cell-editor-border-color);}\n",
       ".datatable .na {  color: var(--jp-cell-editor-border-color);  font-size: 80%;}\n",
       ".datatable .footer { font-size: 9px; }\n",
       ".datatable .frame_dimensions {  background: var(--jp-border-color3);  border-top: 1px solid var(--jp-border-color0);  color: var(--jp-ui-font-color3);  display: inline-block;  opacity: 0.6;  padding: 1px 10px 1px 5px;}\n",
       ".datatable .frame thead tr.colnames {  background-image: url('data:image/png;base64,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');  background-repeat: repeat-x;  background-size: 14px;  height: 28px;}\n",
       "</style>\n"
      ],
      "text/plain": [
       "<IPython.core.display.HTML object>"
      ]
     },
     "metadata": {},
     "output_type": "display_data"
    }
   ],
   "source": [
    "import pandas as pd\n",
    "from lightgbm import LGBMClassifier\n",
    "from sklearn.metrics import roc_auc_score\n",
    "from sklearn.model_selection import KFold\n",
    "import re"
   ]
  },
  {
   "cell_type": "markdown",
   "metadata": {
    "papermill": {
     "duration": 0.011446,
     "end_time": "2020-12-10T23:30:08.997467",
     "exception": false,
     "start_time": "2020-12-10T23:30:08.986021",
     "status": "completed"
    },
    "tags": []
   },
   "source": [
    "### Lectura de las Bases\n",
    "\n",
    "Observamos los datos que tenemos disponibles en https://www.kaggle.com/c/interbank20/data\n",
    "\n",
    "Vamos a trabajar ahora con todas las bases disponibles"
   ]
  },
  {
   "cell_type": "code",
   "execution_count": 2,
   "metadata": {
    "execution": {
     "iopub.execute_input": "2020-12-10T23:30:09.030264Z",
     "iopub.status.busy": "2020-12-10T23:30:09.029591Z",
     "iopub.status.idle": "2020-12-10T23:32:04.798200Z",
     "shell.execute_reply": "2020-12-10T23:32:04.797468Z"
    },
    "papermill": {
     "duration": 115.789236,
     "end_time": "2020-12-10T23:32:04.798372",
     "exception": false,
     "start_time": "2020-12-10T23:30:09.009136",
     "status": "completed"
    },
    "tags": []
   },
   "outputs": [],
   "source": [
    "rcc_train = pd.read_csv(\"/kaggle/input/interbank20/rcc_train.csv\")\n",
    "se_train = pd.read_csv(\"/kaggle/input/interbank20/se_train.csv\", index_col=\"key_value\")\n",
    "censo_train = pd.read_csv(\"/kaggle/input/interbank20/censo_train.csv\", index_col=\"key_value\")\n",
    "y_train = pd.read_csv(\"/kaggle/input/interbank20/y_train.csv\", index_col=\"key_value\").target\n",
    "\n",
    "rcc_test= pd.read_csv(\"/kaggle/input/interbank20/rcc_test.csv\")\n",
    "se_test= pd.read_csv(\"/kaggle/input/interbank20/se_test.csv\", index_col=\"key_value\")\n",
    "censo_test= pd.read_csv(\"/kaggle/input/interbank20/censo_test.csv\", index_col=\"key_value\")"
   ]
  },
  {
   "cell_type": "markdown",
   "metadata": {
    "papermill": {
     "duration": 0.011324,
     "end_time": "2020-12-10T23:32:04.821994",
     "exception": false,
     "start_time": "2020-12-10T23:32:04.810670",
     "status": "completed"
    },
    "tags": []
   },
   "source": [
    "### Vamos a trabajar ahora con la base de **RCC**:\n",
    "* Discretizamos los días de atraso para poder manipularla mejor\n",
    "* Hacemos tablas cruzadas sobre key_value y cada variable de interés, utilizando distintas funciones de agregación sobre el saldo del producto"
   ]
  },
  {
   "cell_type": "code",
   "execution_count": 3,
   "metadata": {
    "execution": {
     "iopub.execute_input": "2020-12-10T23:32:04.855531Z",
     "iopub.status.busy": "2020-12-10T23:32:04.854245Z",
     "iopub.status.idle": "2020-12-10T23:32:07.855918Z",
     "shell.execute_reply": "2020-12-10T23:32:07.855165Z"
    },
    "papermill": {
     "duration": 3.022367,
     "end_time": "2020-12-10T23:32:07.856041",
     "exception": false,
     "start_time": "2020-12-10T23:32:04.833674",
     "status": "completed"
    },
    "tags": []
   },
   "outputs": [],
   "source": [
    "bins = [-1, 0, 10, 20, 30, 60, 90, 180, 360, 720, float(\"inf\")]\n",
    "rcc_train[\"condicion\"] = pd.cut(rcc_train.condicion, bins)\n",
    "rcc_test[\"condicion\"] = pd.cut(rcc_test.condicion, bins)"
   ]
  },
  {
   "cell_type": "code",
   "execution_count": 4,
   "metadata": {
    "execution": {
     "iopub.execute_input": "2020-12-10T23:32:07.887685Z",
     "iopub.status.busy": "2020-12-10T23:32:07.886716Z",
     "iopub.status.idle": "2020-12-10T23:32:07.889874Z",
     "shell.execute_reply": "2020-12-10T23:32:07.889368Z"
    },
    "papermill": {
     "duration": 0.022044,
     "end_time": "2020-12-10T23:32:07.889989",
     "exception": false,
     "start_time": "2020-12-10T23:32:07.867945",
     "status": "completed"
    },
    "tags": []
   },
   "outputs": [],
   "source": [
    "def makeCt(df, c, aggfunc=sum):\n",
    "    try:\n",
    "        ct = pd.crosstab(df.key_value, df[c].fillna(\"N/A\"), values=df.saldo, aggfunc=aggfunc)\n",
    "    except:\n",
    "        ct = pd.crosstab(df.key_value, df[c], values=df.saldo, aggfunc=aggfunc)\n",
    "    ct.columns = [f\"{c}_{aggfunc.__name__}_{v}\" for v in ct.columns]\n",
    "    return ct"
   ]
  },
  {
   "cell_type": "code",
   "execution_count": 5,
   "metadata": {
    "execution": {
     "iopub.execute_input": "2020-12-10T23:32:08.323765Z",
     "iopub.status.busy": "2020-12-10T23:32:08.319971Z",
     "iopub.status.idle": "2020-12-10T23:39:12.187065Z",
     "shell.execute_reply": "2020-12-10T23:39:12.186279Z"
    },
    "papermill": {
     "duration": 424.284806,
     "end_time": "2020-12-10T23:39:12.187196",
     "exception": false,
     "start_time": "2020-12-10T23:32:07.902390",
     "status": "completed"
    },
    "tags": []
   },
   "outputs": [
    {
     "name": "stdout",
     "output_type": "stream",
     "text": [
      "haciendo condicion\n",
      "haciendo tipo_credito\n",
      "haciendo cod_instit_financiera\n",
      "haciendo PRODUCTO\n",
      "haciendo RIESGO_DIRECTO\n",
      "haciendo COD_CLASIFICACION_DEUDOR\n"
     ]
    }
   ],
   "source": [
    "train = []\n",
    "test = []\n",
    "aggfuncs = [len, sum]\n",
    "for c in rcc_train.drop([\"codmes\", \"key_value\", \"saldo\"], axis=1):\n",
    "    print(\"haciendo\", c)\n",
    "    train.extend([makeCt(rcc_train, c, aggfunc) for aggfunc in aggfuncs])\n",
    "    test.extend([makeCt(rcc_test, c, aggfunc) for aggfunc in aggfuncs])"
   ]
  },
  {
   "cell_type": "code",
   "execution_count": 6,
   "metadata": {
    "execution": {
     "iopub.execute_input": "2020-12-10T23:39:12.222219Z",
     "iopub.status.busy": "2020-12-10T23:39:12.221475Z",
     "iopub.status.idle": "2020-12-10T23:39:15.198438Z",
     "shell.execute_reply": "2020-12-10T23:39:15.197704Z"
    },
    "papermill": {
     "duration": 2.996609,
     "end_time": "2020-12-10T23:39:15.198559",
     "exception": false,
     "start_time": "2020-12-10T23:39:12.201950",
     "status": "completed"
    },
    "tags": []
   },
   "outputs": [],
   "source": [
    "train = pd.concat(train, axis=1)\n",
    "test = pd.concat(test, axis=1)"
   ]
  },
  {
   "cell_type": "markdown",
   "metadata": {
    "papermill": {
     "duration": 0.014011,
     "end_time": "2020-12-10T23:39:15.226924",
     "exception": false,
     "start_time": "2020-12-10T23:39:15.212913",
     "status": "completed"
    },
    "tags": []
   },
   "source": [
    "### Incorporamos la Información adicional existente en las tablas socio económicas y del censo. Es un simple join porque ambas tienen key_value únicos\n",
    "#### Por el momento no incorporamos la información tributaria porque requiere un tratamiento más complejo que queda para futuras revisiones"
   ]
  },
  {
   "cell_type": "code",
   "execution_count": 7,
   "metadata": {
    "execution": {
     "iopub.execute_input": "2020-12-10T23:39:15.260900Z",
     "iopub.status.busy": "2020-12-10T23:39:15.260194Z",
     "iopub.status.idle": "2020-12-10T23:39:21.850125Z",
     "shell.execute_reply": "2020-12-10T23:39:21.848675Z"
    },
    "papermill": {
     "duration": 6.609202,
     "end_time": "2020-12-10T23:39:21.850330",
     "exception": false,
     "start_time": "2020-12-10T23:39:15.241128",
     "status": "completed"
    },
    "tags": []
   },
   "outputs": [],
   "source": [
    "train = train.join(censo_train).join(se_train)\n",
    "test = test.join(censo_test).join(se_test)"
   ]
  },
  {
   "cell_type": "markdown",
   "metadata": {
    "papermill": {
     "duration": 0.014353,
     "end_time": "2020-12-10T23:39:21.883712",
     "exception": false,
     "start_time": "2020-12-10T23:39:21.869359",
     "status": "completed"
    },
    "tags": []
   },
   "source": [
    "### Por la naturaleza de las variables creadas, nos aseguramos que solo se utilicen variables existentes en ambos conjuntos de datos (train y test)"
   ]
  },
  {
   "cell_type": "code",
   "execution_count": 8,
   "metadata": {
    "execution": {
     "iopub.execute_input": "2020-12-10T23:39:21.921138Z",
     "iopub.status.busy": "2020-12-10T23:39:21.920467Z",
     "iopub.status.idle": "2020-12-10T23:39:26.038832Z",
     "shell.execute_reply": "2020-12-10T23:39:26.039437Z"
    },
    "papermill": {
     "duration": 4.141344,
     "end_time": "2020-12-10T23:39:26.039597",
     "exception": false,
     "start_time": "2020-12-10T23:39:21.898253",
     "status": "completed"
    },
    "tags": []
   },
   "outputs": [
    {
     "data": {
      "text/plain": [
       "(0, 0)"
      ]
     },
     "execution_count": 8,
     "metadata": {},
     "output_type": "execute_result"
    }
   ],
   "source": [
    "keep_cols = list(set(train.columns).intersection(set(test.columns)))\n",
    "train = train[keep_cols]\n",
    "test = test[keep_cols]\n",
    "len(set(train.columns) - set(test.columns)) , len(set(test.columns) - set(train.columns))"
   ]
  },
  {
   "cell_type": "code",
   "execution_count": 9,
   "metadata": {
    "execution": {
     "iopub.execute_input": "2020-12-10T23:39:26.075176Z",
     "iopub.status.busy": "2020-12-10T23:39:26.074469Z",
     "iopub.status.idle": "2020-12-10T23:39:26.839652Z",
     "shell.execute_reply": "2020-12-10T23:39:26.839042Z"
    },
    "papermill": {
     "duration": 0.785196,
     "end_time": "2020-12-10T23:39:26.839774",
     "exception": false,
     "start_time": "2020-12-10T23:39:26.054578",
     "status": "completed"
    },
    "tags": []
   },
   "outputs": [],
   "source": [
    "test = test.rename(columns = lambda x:re.sub('[^A-Za-z0-9_-]+', '', x))\n",
    "train = train.rename(columns = lambda x:re.sub('[^A-Za-z0-9_-]+', '', x))"
   ]
  },
  {
   "cell_type": "markdown",
   "metadata": {
    "papermill": {
     "duration": 0.014513,
     "end_time": "2020-12-10T23:39:26.869230",
     "exception": false,
     "start_time": "2020-12-10T23:39:26.854717",
     "status": "completed"
    },
    "tags": []
   },
   "source": [
    "### Entrenamiento del Modelo\n",
    "\n",
    "Para entrenar nuestro modelo vamos a usar LightGBM"
   ]
  },
  {
   "cell_type": "code",
   "execution_count": 10,
   "metadata": {
    "execution": {
     "iopub.execute_input": "2020-12-10T23:39:26.911231Z",
     "iopub.status.busy": "2020-12-10T23:39:26.906807Z",
     "iopub.status.idle": "2020-12-10T23:44:09.117043Z",
     "shell.execute_reply": "2020-12-10T23:44:09.116323Z"
    },
    "papermill": {
     "duration": 282.233338,
     "end_time": "2020-12-10T23:44:09.117293",
     "exception": false,
     "start_time": "2020-12-10T23:39:26.883955",
     "status": "completed"
    },
    "tags": []
   },
   "outputs": [
    {
     "name": "stdout",
     "output_type": "stream",
     "text": [
      "********** 0 **********\n",
      "Training until validation scores don't improve for 10 rounds\n",
      "[50]\ttraining's auc: 0.829126\ttraining's binary_logloss: 0.31682\tvalid_1's auc: 0.824671\tvalid_1's binary_logloss: 0.322677\n",
      "[100]\ttraining's auc: 0.842425\ttraining's binary_logloss: 0.307142\tvalid_1's auc: 0.830022\tvalid_1's binary_logloss: 0.31773\n",
      "Early stopping, best iteration is:\n",
      "[103]\ttraining's auc: 0.843004\ttraining's binary_logloss: 0.306766\tvalid_1's auc: 0.830043\tvalid_1's binary_logloss: 0.317675\n",
      "********** 1 **********\n",
      "Training until validation scores don't improve for 10 rounds\n",
      "[50]\ttraining's auc: 0.829145\ttraining's binary_logloss: 0.317248\tvalid_1's auc: 0.824082\tvalid_1's binary_logloss: 0.320768\n",
      "[100]\ttraining's auc: 0.842633\ttraining's binary_logloss: 0.307434\tvalid_1's auc: 0.82932\tvalid_1's binary_logloss: 0.31611\n",
      "[150]\ttraining's auc: 0.852004\ttraining's binary_logloss: 0.301297\tvalid_1's auc: 0.830228\tvalid_1's binary_logloss: 0.315172\n",
      "Early stopping, best iteration is:\n",
      "[148]\ttraining's auc: 0.851608\ttraining's binary_logloss: 0.301526\tvalid_1's auc: 0.830235\tvalid_1's binary_logloss: 0.315185\n",
      "********** 2 **********\n",
      "Training until validation scores don't improve for 10 rounds\n",
      "[50]\ttraining's auc: 0.828304\ttraining's binary_logloss: 0.317599\tvalid_1's auc: 0.82801\tvalid_1's binary_logloss: 0.318906\n",
      "[100]\ttraining's auc: 0.841913\ttraining's binary_logloss: 0.307953\tvalid_1's auc: 0.83345\tvalid_1's binary_logloss: 0.314143\n",
      "[150]\ttraining's auc: 0.851026\ttraining's binary_logloss: 0.301938\tvalid_1's auc: 0.834466\tvalid_1's binary_logloss: 0.312971\n",
      "[200]\ttraining's auc: 0.859313\ttraining's binary_logloss: 0.296524\tvalid_1's auc: 0.834826\tvalid_1's binary_logloss: 0.312333\n",
      "Early stopping, best iteration is:\n",
      "[201]\ttraining's auc: 0.85943\ttraining's binary_logloss: 0.296436\tvalid_1's auc: 0.834838\tvalid_1's binary_logloss: 0.31232\n",
      "********** 3 **********\n",
      "Training until validation scores don't improve for 10 rounds\n",
      "[50]\ttraining's auc: 0.829232\ttraining's binary_logloss: 0.317177\tvalid_1's auc: 0.821921\tvalid_1's binary_logloss: 0.32169\n",
      "[100]\ttraining's auc: 0.842902\ttraining's binary_logloss: 0.307434\tvalid_1's auc: 0.827818\tvalid_1's binary_logloss: 0.316854\n",
      "[150]\ttraining's auc: 0.852674\ttraining's binary_logloss: 0.301286\tvalid_1's auc: 0.828696\tvalid_1's binary_logloss: 0.315935\n",
      "Early stopping, best iteration is:\n",
      "[145]\ttraining's auc: 0.851833\ttraining's binary_logloss: 0.301809\tvalid_1's auc: 0.828734\tvalid_1's binary_logloss: 0.315931\n",
      "********** 4 **********\n",
      "Training until validation scores don't improve for 10 rounds\n",
      "[50]\ttraining's auc: 0.83072\ttraining's binary_logloss: 0.316933\tvalid_1's auc: 0.813804\tvalid_1's binary_logloss: 0.323539\n",
      "[100]\ttraining's auc: 0.844054\ttraining's binary_logloss: 0.306959\tvalid_1's auc: 0.819104\tvalid_1's binary_logloss: 0.31901\n",
      "Early stopping, best iteration is:\n",
      "[131]\ttraining's auc: 0.850099\ttraining's binary_logloss: 0.303017\tvalid_1's auc: 0.819487\tvalid_1's binary_logloss: 0.318461\n",
      "*********************\n",
      "roc auc estimado:  0.8287296558597061\n"
     ]
    }
   ],
   "source": [
    "folds = [train.index[t] for t, v in KFold(5).split(train)]\n",
    "test_probs = []\n",
    "train_probs = []\n",
    "fi = []\n",
    "for i, idx in enumerate(folds):\n",
    "    print(\"*\"*10, i, \"*\"*10)\n",
    "    Xt = train.loc[idx]\n",
    "    yt = y_train.loc[Xt.index]\n",
    "\n",
    "    Xv = train.drop(Xt.index)\n",
    "    yv = y_train.loc[Xv.index]\n",
    "    \n",
    "    learner = LGBMClassifier(n_estimators=1000)\n",
    "    learner.fit(Xt, yt,  early_stopping_rounds=10, eval_metric=\"auc\",\n",
    "                eval_set=[(Xt, yt), (Xv, yv)], verbose=50)\n",
    "    test_probs.append(pd.Series(learner.predict_proba(test)[:, -1], index=test.index, name=\"fold_\" + str(i)))\n",
    "    train_probs.append(pd.Series(learner.predict_proba(Xv)[:, -1], index=Xv.index, name=\"probs\"))\n",
    "    fi.append(pd.Series(learner.feature_importances_ / learner.feature_importances_.sum(), index=Xt.columns))\n",
    "          \n",
    "test_probs = pd.concat(test_probs, axis=1).mean(axis=1)\n",
    "train_probs = pd.concat(train_probs)\n",
    "fi = pd.concat(fi, axis=1).mean(axis=1)\n",
    "\n",
    "print(\"*\" * 21)\n",
    "print(\"roc auc estimado: \", roc_auc_score(y_train, train_probs.loc[y_train.index]))"
   ]
  },
  {
   "cell_type": "code",
   "execution_count": 11,
   "metadata": {
    "execution": {
     "iopub.execute_input": "2020-12-10T23:44:09.178893Z",
     "iopub.status.busy": "2020-12-10T23:44:09.178209Z",
     "iopub.status.idle": "2020-12-10T23:44:09.190093Z",
     "shell.execute_reply": "2020-12-10T23:44:09.189434Z"
    },
    "papermill": {
     "duration": 0.048537,
     "end_time": "2020-12-10T23:44:09.190210",
     "exception": false,
     "start_time": "2020-12-10T23:44:09.141673",
     "status": "completed"
    },
    "tags": []
   },
   "outputs": [
    {
     "data": {
      "text/html": [
       "<div>\n",
       "<style scoped>\n",
       "    .dataframe tbody tr th:only-of-type {\n",
       "        vertical-align: middle;\n",
       "    }\n",
       "\n",
       "    .dataframe tbody tr th {\n",
       "        vertical-align: top;\n",
       "    }\n",
       "\n",
       "    .dataframe thead th {\n",
       "        text-align: right;\n",
       "    }\n",
       "</style>\n",
       "<table border=\"1\" class=\"dataframe\">\n",
       "  <thead>\n",
       "    <tr style=\"text-align: right;\">\n",
       "      <th></th>\n",
       "      <th>0</th>\n",
       "    </tr>\n",
       "  </thead>\n",
       "  <tbody>\n",
       "    <tr>\n",
       "      <th>RIESGO_DIRECTO_len_1</th>\n",
       "      <td>0.056761</td>\n",
       "    </tr>\n",
       "    <tr>\n",
       "      <th>tipo_credito_len_11</th>\n",
       "      <td>0.035359</td>\n",
       "    </tr>\n",
       "    <tr>\n",
       "      <th>edad</th>\n",
       "      <td>0.034513</td>\n",
       "    </tr>\n",
       "    <tr>\n",
       "      <th>RIESGO_DIRECTO_sum_1</th>\n",
       "      <td>0.033829</td>\n",
       "    </tr>\n",
       "    <tr>\n",
       "      <th>tipo_credito_sum_12</th>\n",
       "      <td>0.033279</td>\n",
       "    </tr>\n",
       "    <tr>\n",
       "      <th>...</th>\n",
       "      <td>...</td>\n",
       "    </tr>\n",
       "    <tr>\n",
       "      <th>gas_otrs_a_18</th>\n",
       "      <td>0.000000</td>\n",
       "    </tr>\n",
       "    <tr>\n",
       "      <th>gas_mue_d_18</th>\n",
       "      <td>0.000000</td>\n",
       "    </tr>\n",
       "    <tr>\n",
       "      <th>gas_ves_c_18</th>\n",
       "      <td>0.000000</td>\n",
       "    </tr>\n",
       "    <tr>\n",
       "      <th>gas_trans_a_18</th>\n",
       "      <td>0.000000</td>\n",
       "    </tr>\n",
       "    <tr>\n",
       "      <th>gas_alq_b_18</th>\n",
       "      <td>0.000000</td>\n",
       "    </tr>\n",
       "  </tbody>\n",
       "</table>\n",
       "<p>327 rows × 1 columns</p>\n",
       "</div>"
      ],
      "text/plain": [
       "                             0\n",
       "RIESGO_DIRECTO_len_1  0.056761\n",
       "tipo_credito_len_11   0.035359\n",
       "edad                  0.034513\n",
       "RIESGO_DIRECTO_sum_1  0.033829\n",
       "tipo_credito_sum_12   0.033279\n",
       "...                        ...\n",
       "gas_otrs_a_18         0.000000\n",
       "gas_mue_d_18          0.000000\n",
       "gas_ves_c_18          0.000000\n",
       "gas_trans_a_18        0.000000\n",
       "gas_alq_b_18          0.000000\n",
       "\n",
       "[327 rows x 1 columns]"
      ]
     },
     "execution_count": 11,
     "metadata": {},
     "output_type": "execute_result"
    }
   ],
   "source": [
    "fi.sort_values(ascending=False).to_frame()"
   ]
  },
  {
   "cell_type": "markdown",
   "metadata": {
    "papermill": {
     "duration": 0.024267,
     "end_time": "2020-12-10T23:44:09.239632",
     "exception": false,
     "start_time": "2020-12-10T23:44:09.215365",
     "status": "completed"
    },
    "tags": []
   },
   "source": [
    "### Guardado del modelo para hacer la presentación\n",
    "\n",
    "Finalmente creamos el archivo CSV que podemos subir como nuestra Solución a la competencia\n",
    "\n",
    "Empezá con este archivo y luego podes seguir mejorándolo a ver si subís en posiciones!"
   ]
  },
  {
   "cell_type": "code",
   "execution_count": 12,
   "metadata": {
    "execution": {
     "iopub.execute_input": "2020-12-10T23:44:09.294569Z",
     "iopub.status.busy": "2020-12-10T23:44:09.293866Z",
     "iopub.status.idle": "2020-12-10T23:44:11.116763Z",
     "shell.execute_reply": "2020-12-10T23:44:11.116005Z"
    },
    "papermill": {
     "duration": 1.852751,
     "end_time": "2020-12-10T23:44:11.116903",
     "exception": false,
     "start_time": "2020-12-10T23:44:09.264152",
     "status": "completed"
    },
    "tags": []
   },
   "outputs": [],
   "source": [
    "test_probs.name = \"target\"\n",
    "test_probs.to_csv(\"benchmark1.csv\")"
   ]
  }
 ],
 "metadata": {
  "kernelspec": {
   "display_name": "Python 3",
   "language": "python",
   "name": "python3"
  },
  "language_info": {
   "codemirror_mode": {
    "name": "ipython",
    "version": 3
   },
   "file_extension": ".py",
   "mimetype": "text/x-python",
   "name": "python",
   "nbconvert_exporter": "python",
   "pygments_lexer": "ipython3",
   "version": "3.7.6"
  },
  "papermill": {
   "duration": 848.705044,
   "end_time": "2020-12-10T23:44:11.256154",
   "environment_variables": {},
   "exception": null,
   "input_path": "__notebook__.ipynb",
   "output_path": "__notebook__.ipynb",
   "parameters": {},
   "start_time": "2020-12-10T23:30:02.551110",
   "version": "2.1.0"
  }
 },
 "nbformat": 4,
 "nbformat_minor": 4
}
